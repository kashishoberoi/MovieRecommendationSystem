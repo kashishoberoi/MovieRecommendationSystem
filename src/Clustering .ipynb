{
 "cells": [
  {
   "cell_type": "code",
   "execution_count": 1,
   "metadata": {},
   "outputs": [],
   "source": [
    "import pandas as pd"
   ]
  },
  {
   "cell_type": "code",
   "execution_count": 2,
   "metadata": {},
   "outputs": [],
   "source": [
    "movies = pd.read_csv('./../data/movies.csv')\n",
    "links = pd.read_csv('./../data/links.csv')\n",
    "tags = pd.read_csv('./../data/tags.csv')\n",
    "ratings = pd.read_csv('./../data/ratings.csv')\n",
    "genome_scores = pd.read_csv('./../data/genome-scores.csv')\n",
    "genome_tags = pd.read_csv('./../data/genome-tags.csv')"
   ]
  },
  {
   "cell_type": "code",
   "execution_count": 3,
   "metadata": {},
   "outputs": [
    {
     "name": "stdout",
     "output_type": "stream",
     "text": [
      "Summary\n",
      "=======\n",
      "\n",
      "This dataset (ml-25m) describes 5-star rating and free-text tagging activity from [MovieLens](http://movielens.org), a movie recommendation service. It contains 25000095 ratings and 1093360 tag applications across 62423 movies. These data were created by 162541 users between January 09, 1995 and November 21, 2019. This dataset was generated on November 21, 2019.\n",
      "\n",
      "Users were selected at random for inclusion. All selected users had rated at least 20 movies. No demographic information is included. Each user is represented by an id, and no other information is provided.\n",
      "\n",
      "The data are contained in the files `genome-scores.csv`, `genome-tags.csv`, `links.csv`, `movies.csv`, `ratings.csv` and `tags.csv`. More details about the contents and use of all these files follows.\n",
      "\n",
      "This and other GroupLens data sets are publicly available for download at <http://grouplens.org/datasets/>.\n",
      "\n",
      "\n",
      "Usage License\n",
      "=============\n",
      "\n",
      "Neither the University of Minnesota nor any of the researchers involved can guarantee the correctness of the data, its suitability for any particular purpose, or the validity of results based on the use of the data set. The data set may be used for any research purposes under the following conditions:\n",
      "\n",
      "* The user may not state or imply any endorsement from the University of Minnesota or the GroupLens Research Group.\n",
      "* The user must acknowledge the use of the data set in publications resulting from the use of the data set (see below for citation information).\n",
      "* The user may not redistribute the data without separate permission.\n",
      "* The user may not use this information for any commercial or revenue-bearing purposes without first obtaining permission from a faculty member of the GroupLens Research Project at the University of Minnesota.\n",
      "* The executable software scripts are provided \"as is\" without warranty of any kind, either expressed or implied, including, but not limited to, the implied warranties of merchantability and fitness for a particular purpose. The entire risk as to the quality and performance of them is with you. Should the program prove defective, you assume the cost of all necessary servicing, repair or correction.\n",
      "\n",
      "In no event shall the University of Minnesota, its affiliates or employees be liable to you for any damages arising out of the use or inability to use these programs (including but not limited to loss of data or data being rendered inaccurate).\n",
      "\n",
      "If you have any further questions or comments, please email <grouplens-info@umn.edu>\n",
      "\n",
      "\n",
      "Citation\n",
      "========\n",
      "\n",
      "To acknowledge use of the dataset in publications, please cite the following paper:\n",
      "\n",
      "> F. Maxwell Harper and Joseph A. Konstan. 2015. The MovieLens Datasets: History and Context. ACM Transactions on Interactive Intelligent Systems (TiiS) 5, 4: 19:1â€“19:19. <https://doi.org/10.1145/2827872>\n",
      "\n",
      "\n",
      "Further Information About GroupLens\n",
      "===================================\n",
      "\n",
      "GroupLens is a research group in the Department of Computer Science and Engineering at the University of Minnesota. Since its inception in 1992, GroupLens's research projects have explored a variety of fields including:\n",
      "\n",
      "* recommender systems\n",
      "* online communities\n",
      "* mobile and ubiquitious technologies\n",
      "* digital libraries\n",
      "* local geographic information systems\n",
      "\n",
      "GroupLens Research operates a movie recommender based on collaborative filtering, MovieLens, which is the source of these data. We encourage you to visit <http://movielens.org> to try it out! If you have exciting ideas for experimental work to conduct on MovieLens, send us an email at <grouplens-info@cs.umn.edu> - we are always interested in working with external collaborators.\n",
      "\n",
      "\n",
      "Content and Use of Files\n",
      "========================\n",
      "\n",
      "Verifying the Dataset Contents\n",
      "------------------------------\n",
      "\n",
      "We encourage you to verify that the dataset you have on your computer is identical to the ones hosted at [grouplens.org](http://grouplens.org).  This is an important step if you downloaded the dataset from a location other than [grouplens.org](http://grouplens.org), or if you wish to publish research results based on analysis of the MovieLens dataset.\n",
      "\n",
      "We provide a [MD5 checksum](http://en.wikipedia.org/wiki/Md5sum) with the same name as the downloadable `.zip` file, but with a `.md5` file extension. To verify the dataset:\n",
      "\n",
      "    # on linux\n",
      "    md5sum ml-25m.zip; cat ml-25m.zip.md5\n",
      "\n",
      "    # on OSX\n",
      "    md5 ml-25m.zip; cat ml-25m.zip.md5\n",
      "\n",
      "    # windows users can download a tool from Microsoft (or elsewhere) that verifies MD5 checksums\n",
      "\n",
      "Check that the two lines of output contain the same hash value.\n",
      "\n",
      "\n",
      "Formatting and Encoding\n",
      "-----------------------\n",
      "\n",
      "The dataset files are written as [comma-separated values](http://en.wikipedia.org/wiki/Comma-separated_values) files with a single header row. Columns that contain commas (`,`) are escaped using double-quotes (`\"`). These files are encoded as UTF-8. If accented characters in movie titles or tag values (e.g. MisÃ©rables, Les (1995)) display incorrectly, make sure that any program reading the data, such as a text editor, terminal, or script, is configured for UTF-8.\n",
      "\n",
      "\n",
      "User Ids\n",
      "--------\n",
      "\n",
      "MovieLens users were selected at random for inclusion. Their ids have been anonymized. User ids are consistent between `ratings.csv` and `tags.csv` (i.e., the same id refers to the same user across the two files).\n",
      "\n",
      "\n",
      "Movie Ids\n",
      "---------\n",
      "\n",
      "Only movies with at least one rating or tag are included in the dataset. These movie ids are consistent with those used on the MovieLens web site (e.g., id `1` corresponds to the URL <https://movielens.org/movies/1>). Movie ids are consistent between `ratings.csv`, `tags.csv`, `movies.csv`, and `links.csv` (i.e., the same id refers to the same movie across these four data files).\n",
      "\n",
      "\n",
      "Ratings Data File Structure (ratings.csv)\n",
      "-----------------------------------------\n",
      "\n",
      "All ratings are contained in the file `ratings.csv`. Each line of this file after the header row represents one rating of one movie by one user, and has the following format:\n",
      "\n",
      "    userId,movieId,rating,timestamp\n",
      "\n",
      "The lines within this file are ordered first by userId, then, within user, by movieId.\n",
      "\n",
      "Ratings are made on a 5-star scale, with half-star increments (0.5 stars - 5.0 stars).\n",
      "\n",
      "Timestamps represent seconds since midnight Coordinated Universal Time (UTC) of January 1, 1970.\n",
      "\n",
      "\n",
      "Tags Data File Structure (tags.csv)\n",
      "-----------------------------------\n",
      "\n",
      "All tags are contained in the file `tags.csv`. Each line of this file after the header row represents one tag applied to one movie by one user, and has the following format:\n",
      "\n",
      "    userId,movieId,tag,timestamp\n",
      "\n",
      "The lines within this file are ordered first by userId, then, within user, by movieId.\n",
      "\n",
      "Tags are user-generated metadata about movies. Each tag is typically a single word or short phrase. The meaning, value, and purpose of a particular tag is determined by each user.\n",
      "\n",
      "Timestamps represent seconds since midnight Coordinated Universal Time (UTC) of January 1, 1970.\n",
      "\n",
      "\n",
      "Movies Data File Structure (movies.csv)\n",
      "---------------------------------------\n",
      "\n",
      "Movie information is contained in the file `movies.csv`. Each line of this file after the header row represents one movie, and has the following format:\n",
      "\n",
      "    movieId,title,genres\n",
      "\n",
      "Movie titles are entered manually or imported from <https://www.themoviedb.org/>, and include the year of release in parentheses. Errors and inconsistencies may exist in these titles.\n",
      "\n",
      "Genres are a pipe-separated list, and are selected from the following:\n",
      "\n",
      "* Action\n",
      "* Adventure\n",
      "* Animation\n",
      "* Children's\n",
      "* Comedy\n",
      "* Crime\n",
      "* Documentary\n",
      "* Drama\n",
      "* Fantasy\n",
      "* Film-Noir\n",
      "* Horror\n",
      "* Musical\n",
      "* Mystery\n",
      "* Romance\n",
      "* Sci-Fi\n",
      "* Thriller\n",
      "* War\n",
      "* Western\n",
      "* (no genres listed)\n",
      "\n",
      "\n",
      "Links Data File Structure (links.csv)\n",
      "---------------------------------------\n",
      "\n",
      "Identifiers that can be used to link to other sources of movie data are contained in the file `links.csv`. Each line of this file after the header row represents one movie, and has the following format:\n",
      "\n",
      "    movieId,imdbId,tmdbId\n",
      "\n",
      "movieId is an identifier for movies used by <https://movielens.org>. E.g., the movie Toy Story has the link <https://movielens.org/movies/1>.\n",
      "\n",
      "imdbId is an identifier for movies used by <http://www.imdb.com>. E.g., the movie Toy Story has the link <http://www.imdb.com/title/tt0114709/>.\n",
      "\n",
      "tmdbId is an identifier for movies used by <https://www.themoviedb.org>. E.g., the movie Toy Story has the link <https://www.themoviedb.org/movie/862>.\n",
      "\n",
      "Use of the resources listed above is subject to the terms of each provider.\n",
      "\n",
      "\n",
      "Tag Genome (genome-scores.csv and genome-tags.csv)\n",
      "-------------------------------------------------\n",
      "\n",
      "This data set includes a current copy of the Tag Genome.\n",
      "\n",
      "[genome-paper]: http://files.grouplens.org/papers/tag_genome.pdf\n",
      "\n",
      "The tag genome is a data structure that contains tag relevance scores for movies.  The structure is a dense matrix: each movie in the genome has a value for *every* tag in the genome.\n",
      "\n",
      "As described in [this article][genome-paper], the tag genome encodes how strongly movies exhibit particular properties represented by tags (atmospheric, thought-provoking, realistic, etc.). The tag genome was computed using a machine learning algorithm on user-contributed content including tags, ratings, and textual reviews.\n",
      "\n",
      "The genome is split into two files.  The file `genome-scores.csv` contains movie-tag relevance data in the following format:\n",
      "\n",
      "    movieId,tagId,relevance\n",
      "\n",
      "The second file, `genome-tags.csv`, provides the tag descriptions for the tag IDs in the genome file, in the following format:\n",
      "\n",
      "    tagId,tag\n",
      "\n",
      "The `tagId` values are generated when the data set is exported, so they may vary from version to version of the MovieLens data sets.\n",
      "\n",
      "Please include the following citation if referencing tag genome data:\n",
      "\n",
      "> Jesse Vig, Shilad Sen, and John Riedl. 2012. The Tag Genome: Encoding Community Knowledge to Support Novel Interaction. ACM Trans. Interact. Intell. Syst. 2, 3: 13:1â€“13:44. <https://doi.org/10.1145/2362394.2362395>\n",
      "\n",
      "\n",
      "Cross-Validation\n",
      "----------------\n",
      "\n",
      "Prior versions of the MovieLens dataset included either pre-computed cross-folds or scripts to perform this computation. We no longer bundle either of these features with the dataset, since most modern toolkits provide this as a built-in feature. If you wish to learn about standard approaches to cross-fold computation in the context of recommender systems evaluation, see [LensKit](http://lenskit.org) for tools, documentation, and open-source code examples.\n",
      "\n"
     ]
    }
   ],
   "source": [
    "readme = open(\"./../data/README.txt\", \"r\")\n",
    "print(readme.read())"
   ]
  },
  {
   "cell_type": "code",
   "execution_count": 4,
   "metadata": {},
   "outputs": [
    {
     "data": {
      "text/html": [
       "<div>\n",
       "<style scoped>\n",
       "    .dataframe tbody tr th:only-of-type {\n",
       "        vertical-align: middle;\n",
       "    }\n",
       "\n",
       "    .dataframe tbody tr th {\n",
       "        vertical-align: top;\n",
       "    }\n",
       "\n",
       "    .dataframe thead th {\n",
       "        text-align: right;\n",
       "    }\n",
       "</style>\n",
       "<table border=\"1\" class=\"dataframe\">\n",
       "  <thead>\n",
       "    <tr style=\"text-align: right;\">\n",
       "      <th></th>\n",
       "      <th>movieId</th>\n",
       "      <th>title</th>\n",
       "      <th>genres</th>\n",
       "    </tr>\n",
       "  </thead>\n",
       "  <tbody>\n",
       "    <tr>\n",
       "      <th>0</th>\n",
       "      <td>1</td>\n",
       "      <td>Toy Story (1995)</td>\n",
       "      <td>Adventure|Animation|Children|Comedy|Fantasy</td>\n",
       "    </tr>\n",
       "    <tr>\n",
       "      <th>1</th>\n",
       "      <td>2</td>\n",
       "      <td>Jumanji (1995)</td>\n",
       "      <td>Adventure|Children|Fantasy</td>\n",
       "    </tr>\n",
       "    <tr>\n",
       "      <th>2</th>\n",
       "      <td>3</td>\n",
       "      <td>Grumpier Old Men (1995)</td>\n",
       "      <td>Comedy|Romance</td>\n",
       "    </tr>\n",
       "    <tr>\n",
       "      <th>3</th>\n",
       "      <td>4</td>\n",
       "      <td>Waiting to Exhale (1995)</td>\n",
       "      <td>Comedy|Drama|Romance</td>\n",
       "    </tr>\n",
       "    <tr>\n",
       "      <th>4</th>\n",
       "      <td>5</td>\n",
       "      <td>Father of the Bride Part II (1995)</td>\n",
       "      <td>Comedy</td>\n",
       "    </tr>\n",
       "  </tbody>\n",
       "</table>\n",
       "</div>"
      ],
      "text/plain": [
       "   movieId                               title  \\\n",
       "0        1                    Toy Story (1995)   \n",
       "1        2                      Jumanji (1995)   \n",
       "2        3             Grumpier Old Men (1995)   \n",
       "3        4            Waiting to Exhale (1995)   \n",
       "4        5  Father of the Bride Part II (1995)   \n",
       "\n",
       "                                        genres  \n",
       "0  Adventure|Animation|Children|Comedy|Fantasy  \n",
       "1                   Adventure|Children|Fantasy  \n",
       "2                               Comedy|Romance  \n",
       "3                         Comedy|Drama|Romance  \n",
       "4                                       Comedy  "
      ]
     },
     "execution_count": 4,
     "metadata": {},
     "output_type": "execute_result"
    }
   ],
   "source": [
    "movies.head()"
   ]
  },
  {
   "cell_type": "code",
   "execution_count": 5,
   "metadata": {
    "scrolled": true
   },
   "outputs": [
    {
     "data": {
      "text/html": [
       "<div>\n",
       "<style scoped>\n",
       "    .dataframe tbody tr th:only-of-type {\n",
       "        vertical-align: middle;\n",
       "    }\n",
       "\n",
       "    .dataframe tbody tr th {\n",
       "        vertical-align: top;\n",
       "    }\n",
       "\n",
       "    .dataframe thead th {\n",
       "        text-align: right;\n",
       "    }\n",
       "</style>\n",
       "<table border=\"1\" class=\"dataframe\">\n",
       "  <thead>\n",
       "    <tr style=\"text-align: right;\">\n",
       "      <th></th>\n",
       "      <th>userId</th>\n",
       "      <th>movieId</th>\n",
       "      <th>rating</th>\n",
       "      <th>timestamp</th>\n",
       "    </tr>\n",
       "  </thead>\n",
       "  <tbody>\n",
       "    <tr>\n",
       "      <th>0</th>\n",
       "      <td>1</td>\n",
       "      <td>296</td>\n",
       "      <td>5.0</td>\n",
       "      <td>1147880044</td>\n",
       "    </tr>\n",
       "    <tr>\n",
       "      <th>1</th>\n",
       "      <td>1</td>\n",
       "      <td>306</td>\n",
       "      <td>3.5</td>\n",
       "      <td>1147868817</td>\n",
       "    </tr>\n",
       "    <tr>\n",
       "      <th>2</th>\n",
       "      <td>1</td>\n",
       "      <td>307</td>\n",
       "      <td>5.0</td>\n",
       "      <td>1147868828</td>\n",
       "    </tr>\n",
       "    <tr>\n",
       "      <th>3</th>\n",
       "      <td>1</td>\n",
       "      <td>665</td>\n",
       "      <td>5.0</td>\n",
       "      <td>1147878820</td>\n",
       "    </tr>\n",
       "    <tr>\n",
       "      <th>4</th>\n",
       "      <td>1</td>\n",
       "      <td>899</td>\n",
       "      <td>3.5</td>\n",
       "      <td>1147868510</td>\n",
       "    </tr>\n",
       "  </tbody>\n",
       "</table>\n",
       "</div>"
      ],
      "text/plain": [
       "   userId  movieId  rating   timestamp\n",
       "0       1      296     5.0  1147880044\n",
       "1       1      306     3.5  1147868817\n",
       "2       1      307     5.0  1147868828\n",
       "3       1      665     5.0  1147878820\n",
       "4       1      899     3.5  1147868510"
      ]
     },
     "execution_count": 5,
     "metadata": {},
     "output_type": "execute_result"
    }
   ],
   "source": [
    "ratings.head()"
   ]
  },
  {
   "cell_type": "code",
   "execution_count": 6,
   "metadata": {},
   "outputs": [
    {
     "data": {
      "text/html": [
       "<div>\n",
       "<style scoped>\n",
       "    .dataframe tbody tr th:only-of-type {\n",
       "        vertical-align: middle;\n",
       "    }\n",
       "\n",
       "    .dataframe tbody tr th {\n",
       "        vertical-align: top;\n",
       "    }\n",
       "\n",
       "    .dataframe thead th {\n",
       "        text-align: right;\n",
       "    }\n",
       "</style>\n",
       "<table border=\"1\" class=\"dataframe\">\n",
       "  <thead>\n",
       "    <tr style=\"text-align: right;\">\n",
       "      <th></th>\n",
       "      <th>movieId</th>\n",
       "      <th>imdbId</th>\n",
       "      <th>tmdbId</th>\n",
       "    </tr>\n",
       "  </thead>\n",
       "  <tbody>\n",
       "    <tr>\n",
       "      <th>0</th>\n",
       "      <td>1</td>\n",
       "      <td>114709</td>\n",
       "      <td>862.0</td>\n",
       "    </tr>\n",
       "    <tr>\n",
       "      <th>1</th>\n",
       "      <td>2</td>\n",
       "      <td>113497</td>\n",
       "      <td>8844.0</td>\n",
       "    </tr>\n",
       "    <tr>\n",
       "      <th>2</th>\n",
       "      <td>3</td>\n",
       "      <td>113228</td>\n",
       "      <td>15602.0</td>\n",
       "    </tr>\n",
       "    <tr>\n",
       "      <th>3</th>\n",
       "      <td>4</td>\n",
       "      <td>114885</td>\n",
       "      <td>31357.0</td>\n",
       "    </tr>\n",
       "    <tr>\n",
       "      <th>4</th>\n",
       "      <td>5</td>\n",
       "      <td>113041</td>\n",
       "      <td>11862.0</td>\n",
       "    </tr>\n",
       "  </tbody>\n",
       "</table>\n",
       "</div>"
      ],
      "text/plain": [
       "   movieId  imdbId   tmdbId\n",
       "0        1  114709    862.0\n",
       "1        2  113497   8844.0\n",
       "2        3  113228  15602.0\n",
       "3        4  114885  31357.0\n",
       "4        5  113041  11862.0"
      ]
     },
     "execution_count": 6,
     "metadata": {},
     "output_type": "execute_result"
    }
   ],
   "source": [
    "links.head()"
   ]
  },
  {
   "cell_type": "code",
   "execution_count": 7,
   "metadata": {},
   "outputs": [
    {
     "data": {
      "text/html": [
       "<div>\n",
       "<style scoped>\n",
       "    .dataframe tbody tr th:only-of-type {\n",
       "        vertical-align: middle;\n",
       "    }\n",
       "\n",
       "    .dataframe tbody tr th {\n",
       "        vertical-align: top;\n",
       "    }\n",
       "\n",
       "    .dataframe thead th {\n",
       "        text-align: right;\n",
       "    }\n",
       "</style>\n",
       "<table border=\"1\" class=\"dataframe\">\n",
       "  <thead>\n",
       "    <tr style=\"text-align: right;\">\n",
       "      <th></th>\n",
       "      <th>userId</th>\n",
       "      <th>movieId</th>\n",
       "      <th>tag</th>\n",
       "      <th>timestamp</th>\n",
       "    </tr>\n",
       "  </thead>\n",
       "  <tbody>\n",
       "    <tr>\n",
       "      <th>0</th>\n",
       "      <td>3</td>\n",
       "      <td>260</td>\n",
       "      <td>classic</td>\n",
       "      <td>1439472355</td>\n",
       "    </tr>\n",
       "    <tr>\n",
       "      <th>1</th>\n",
       "      <td>3</td>\n",
       "      <td>260</td>\n",
       "      <td>sci-fi</td>\n",
       "      <td>1439472256</td>\n",
       "    </tr>\n",
       "    <tr>\n",
       "      <th>2</th>\n",
       "      <td>4</td>\n",
       "      <td>1732</td>\n",
       "      <td>dark comedy</td>\n",
       "      <td>1573943598</td>\n",
       "    </tr>\n",
       "    <tr>\n",
       "      <th>3</th>\n",
       "      <td>4</td>\n",
       "      <td>1732</td>\n",
       "      <td>great dialogue</td>\n",
       "      <td>1573943604</td>\n",
       "    </tr>\n",
       "    <tr>\n",
       "      <th>4</th>\n",
       "      <td>4</td>\n",
       "      <td>7569</td>\n",
       "      <td>so bad it's good</td>\n",
       "      <td>1573943455</td>\n",
       "    </tr>\n",
       "  </tbody>\n",
       "</table>\n",
       "</div>"
      ],
      "text/plain": [
       "   userId  movieId               tag   timestamp\n",
       "0       3      260           classic  1439472355\n",
       "1       3      260            sci-fi  1439472256\n",
       "2       4     1732       dark comedy  1573943598\n",
       "3       4     1732    great dialogue  1573943604\n",
       "4       4     7569  so bad it's good  1573943455"
      ]
     },
     "execution_count": 7,
     "metadata": {},
     "output_type": "execute_result"
    }
   ],
   "source": [
    "tags.head()"
   ]
  },
  {
   "cell_type": "code",
   "execution_count": 8,
   "metadata": {},
   "outputs": [
    {
     "data": {
      "text/html": [
       "<div>\n",
       "<style scoped>\n",
       "    .dataframe tbody tr th:only-of-type {\n",
       "        vertical-align: middle;\n",
       "    }\n",
       "\n",
       "    .dataframe tbody tr th {\n",
       "        vertical-align: top;\n",
       "    }\n",
       "\n",
       "    .dataframe thead th {\n",
       "        text-align: right;\n",
       "    }\n",
       "</style>\n",
       "<table border=\"1\" class=\"dataframe\">\n",
       "  <thead>\n",
       "    <tr style=\"text-align: right;\">\n",
       "      <th></th>\n",
       "      <th>movieId</th>\n",
       "      <th>tagId</th>\n",
       "      <th>relevance</th>\n",
       "    </tr>\n",
       "  </thead>\n",
       "  <tbody>\n",
       "    <tr>\n",
       "      <th>0</th>\n",
       "      <td>1</td>\n",
       "      <td>1</td>\n",
       "      <td>0.02875</td>\n",
       "    </tr>\n",
       "    <tr>\n",
       "      <th>1</th>\n",
       "      <td>1</td>\n",
       "      <td>2</td>\n",
       "      <td>0.02375</td>\n",
       "    </tr>\n",
       "    <tr>\n",
       "      <th>2</th>\n",
       "      <td>1</td>\n",
       "      <td>3</td>\n",
       "      <td>0.06250</td>\n",
       "    </tr>\n",
       "    <tr>\n",
       "      <th>3</th>\n",
       "      <td>1</td>\n",
       "      <td>4</td>\n",
       "      <td>0.07575</td>\n",
       "    </tr>\n",
       "    <tr>\n",
       "      <th>4</th>\n",
       "      <td>1</td>\n",
       "      <td>5</td>\n",
       "      <td>0.14075</td>\n",
       "    </tr>\n",
       "  </tbody>\n",
       "</table>\n",
       "</div>"
      ],
      "text/plain": [
       "   movieId  tagId  relevance\n",
       "0        1      1    0.02875\n",
       "1        1      2    0.02375\n",
       "2        1      3    0.06250\n",
       "3        1      4    0.07575\n",
       "4        1      5    0.14075"
      ]
     },
     "execution_count": 8,
     "metadata": {},
     "output_type": "execute_result"
    }
   ],
   "source": [
    "genome_scores.head()"
   ]
  },
  {
   "cell_type": "code",
   "execution_count": 9,
   "metadata": {},
   "outputs": [
    {
     "data": {
      "text/html": [
       "<div>\n",
       "<style scoped>\n",
       "    .dataframe tbody tr th:only-of-type {\n",
       "        vertical-align: middle;\n",
       "    }\n",
       "\n",
       "    .dataframe tbody tr th {\n",
       "        vertical-align: top;\n",
       "    }\n",
       "\n",
       "    .dataframe thead th {\n",
       "        text-align: right;\n",
       "    }\n",
       "</style>\n",
       "<table border=\"1\" class=\"dataframe\">\n",
       "  <thead>\n",
       "    <tr style=\"text-align: right;\">\n",
       "      <th></th>\n",
       "      <th>tagId</th>\n",
       "      <th>tag</th>\n",
       "    </tr>\n",
       "  </thead>\n",
       "  <tbody>\n",
       "    <tr>\n",
       "      <th>0</th>\n",
       "      <td>1</td>\n",
       "      <td>007</td>\n",
       "    </tr>\n",
       "    <tr>\n",
       "      <th>1</th>\n",
       "      <td>2</td>\n",
       "      <td>007 (series)</td>\n",
       "    </tr>\n",
       "    <tr>\n",
       "      <th>2</th>\n",
       "      <td>3</td>\n",
       "      <td>18th century</td>\n",
       "    </tr>\n",
       "    <tr>\n",
       "      <th>3</th>\n",
       "      <td>4</td>\n",
       "      <td>1920s</td>\n",
       "    </tr>\n",
       "    <tr>\n",
       "      <th>4</th>\n",
       "      <td>5</td>\n",
       "      <td>1930s</td>\n",
       "    </tr>\n",
       "  </tbody>\n",
       "</table>\n",
       "</div>"
      ],
      "text/plain": [
       "   tagId           tag\n",
       "0      1           007\n",
       "1      2  007 (series)\n",
       "2      3  18th century\n",
       "3      4         1920s\n",
       "4      5         1930s"
      ]
     },
     "execution_count": 9,
     "metadata": {},
     "output_type": "execute_result"
    }
   ],
   "source": [
    "genome_tags.head()"
   ]
  },
  {
   "cell_type": "code",
   "execution_count": 49,
   "metadata": {},
   "outputs": [
    {
     "data": {
      "text/html": [
       "<div>\n",
       "<style scoped>\n",
       "    .dataframe tbody tr th:only-of-type {\n",
       "        vertical-align: middle;\n",
       "    }\n",
       "\n",
       "    .dataframe tbody tr th {\n",
       "        vertical-align: top;\n",
       "    }\n",
       "\n",
       "    .dataframe thead th {\n",
       "        text-align: right;\n",
       "    }\n",
       "</style>\n",
       "<table border=\"1\" class=\"dataframe\">\n",
       "  <thead>\n",
       "    <tr style=\"text-align: right;\">\n",
       "      <th></th>\n",
       "      <th>movieId</th>\n",
       "      <th>title</th>\n",
       "      <th>genres</th>\n",
       "    </tr>\n",
       "  </thead>\n",
       "  <tbody>\n",
       "    <tr>\n",
       "      <th>0</th>\n",
       "      <td>1</td>\n",
       "      <td>Toy Story (1995)</td>\n",
       "      <td>Adventure|Animation|Children|Comedy|Fantasy</td>\n",
       "    </tr>\n",
       "    <tr>\n",
       "      <th>1</th>\n",
       "      <td>2</td>\n",
       "      <td>Jumanji (1995)</td>\n",
       "      <td>Adventure|Children|Fantasy</td>\n",
       "    </tr>\n",
       "    <tr>\n",
       "      <th>2</th>\n",
       "      <td>3</td>\n",
       "      <td>Grumpier Old Men (1995)</td>\n",
       "      <td>Comedy|Romance</td>\n",
       "    </tr>\n",
       "    <tr>\n",
       "      <th>3</th>\n",
       "      <td>4</td>\n",
       "      <td>Waiting to Exhale (1995)</td>\n",
       "      <td>Comedy|Drama|Romance</td>\n",
       "    </tr>\n",
       "    <tr>\n",
       "      <th>4</th>\n",
       "      <td>5</td>\n",
       "      <td>Father of the Bride Part II (1995)</td>\n",
       "      <td>Comedy</td>\n",
       "    </tr>\n",
       "  </tbody>\n",
       "</table>\n",
       "</div>"
      ],
      "text/plain": [
       "   movieId                               title  \\\n",
       "0        1                    Toy Story (1995)   \n",
       "1        2                      Jumanji (1995)   \n",
       "2        3             Grumpier Old Men (1995)   \n",
       "3        4            Waiting to Exhale (1995)   \n",
       "4        5  Father of the Bride Part II (1995)   \n",
       "\n",
       "                                        genres  \n",
       "0  Adventure|Animation|Children|Comedy|Fantasy  \n",
       "1                   Adventure|Children|Fantasy  \n",
       "2                               Comedy|Romance  \n",
       "3                         Comedy|Drama|Romance  \n",
       "4                                       Comedy  "
      ]
     },
     "execution_count": 49,
     "metadata": {},
     "output_type": "execute_result"
    }
   ],
   "source": [
    "movies.head()"
   ]
  },
  {
   "cell_type": "code",
   "execution_count": 50,
   "metadata": {},
   "outputs": [],
   "source": [
    "movie_dict = dict()\n",
    "for itr in range(len(movies)):\n",
    "    movie_dict[movies.iloc[itr]['movieId']] = dict()\n",
    "    movie_dict[movies.iloc[itr]['movieId']]['title'] = movies.iloc[itr]['title']\n",
    "    movie_dict[movies.iloc[itr]['movieId']]['genres'] = movies.iloc[itr]['genres'].split('|')"
   ]
  },
  {
   "cell_type": "code",
   "execution_count": 60,
   "metadata": {},
   "outputs": [],
   "source": [
    "genre_set = []\n",
    "for gen in movies['genres'].values:\n",
    "    genre_set.extend(gen.split('|'))\n",
    "genre_set = set(genre_set)"
   ]
  },
  {
   "cell_type": "code",
   "execution_count": 70,
   "metadata": {},
   "outputs": [],
   "source": [
    "genre_set = list(genre_set - set(['(no genres listed)']))"
   ]
  },
  {
   "cell_type": "code",
   "execution_count": 273,
   "metadata": {},
   "outputs": [
    {
     "data": {
      "text/plain": [
       "['Comedy',\n",
       " 'IMAX',\n",
       " 'Sci-Fi',\n",
       " 'Children',\n",
       " 'Mystery',\n",
       " 'Musical',\n",
       " 'Drama',\n",
       " 'Adventure',\n",
       " 'War',\n",
       " 'Western',\n",
       " 'Animation',\n",
       " 'Thriller',\n",
       " 'Crime',\n",
       " 'Documentary',\n",
       " 'Fantasy',\n",
       " 'Horror',\n",
       " 'Romance',\n",
       " 'Action',\n",
       " 'Film-Noir']"
      ]
     },
     "execution_count": 273,
     "metadata": {},
     "output_type": "execute_result"
    }
   ],
   "source": [
    "genre_set"
   ]
  },
  {
   "cell_type": "code",
   "execution_count": 71,
   "metadata": {},
   "outputs": [],
   "source": [
    "genre_dict = dict()\n",
    "for itr in range(len(genre_set)):\n",
    "    genre_dict[genre_set[itr]] = itr"
   ]
  },
  {
   "cell_type": "code",
   "execution_count": 85,
   "metadata": {},
   "outputs": [],
   "source": [
    "for movie_id in movie_dict.keys():\n",
    "    gen_list = [0 for itr in range(len(genre_set))]\n",
    "    for gen in movie_dict[movie_id]['genres']:\n",
    "        if gen!='(no genres listed)':\n",
    "            gen_list[genre_dict[gen]] = 1\n",
    "    movie_dict[movie_id]['genres'] = gen_list"
   ]
  },
  {
   "cell_type": "code",
   "execution_count": 90,
   "metadata": {},
   "outputs": [],
   "source": [
    "movies_data = []\n",
    "for movie_id in movie_dict.keys():\n",
    "    temp = [movie_id,movie_dict[movie_id]['title']]\n",
    "    temp.extend(movie_dict[movie_id]['genres'])\n",
    "    movies_data.append(temp)"
   ]
  },
  {
   "cell_type": "code",
   "execution_count": 93,
   "metadata": {},
   "outputs": [],
   "source": [
    "columns =['movieId','title']\n",
    "columns.extend(genre_dict.keys())"
   ]
  },
  {
   "cell_type": "code",
   "execution_count": 99,
   "metadata": {},
   "outputs": [],
   "source": [
    "movies_data = pd.DataFrame(movies_data,columns = columns)"
   ]
  },
  {
   "cell_type": "code",
   "execution_count": 115,
   "metadata": {},
   "outputs": [],
   "source": [
    "from sklearn.cluster import KMeans\n",
    "kmeans = KMeans(n_clusters=10)\n",
    "kmeans.fit(movies_data[movies_data.columns[2:]])\n",
    "y_kmeans = kmeans.predict(movies_data[movies_data.columns[2:]])"
   ]
  },
  {
   "cell_type": "code",
   "execution_count": 123,
   "metadata": {},
   "outputs": [],
   "source": [
    "cluster_dict_check = dict()\n",
    "for number_of_cluster in range(3,100):\n",
    "    kmeans = KMeans(n_clusters=number_of_cluster)\n",
    "    kmeans.fit(movies_data[movies_data.columns[2:]])\n",
    "    cluster_dict_check[number_of_cluster] = kmeans.inertia_"
   ]
  },
  {
   "cell_type": "code",
   "execution_count": 131,
   "metadata": {},
   "outputs": [
    {
     "data": {
      "text/plain": [
       "[<matplotlib.lines.Line2D at 0x262d0575400>]"
      ]
     },
     "execution_count": 131,
     "metadata": {},
     "output_type": "execute_result"
    },
    {
     "data": {
      "image/png": "[encoded data removed]",
      "text/plain": [
       "<Figure size 432x288 with 1 Axes>"
      ]
     },
     "metadata": {
      "needs_background": "light"
     },
     "output_type": "display_data"
    }
   ],
   "source": [
    "plt.plot(cluster_dict_check.keys(),cluster_dict_check.values())"
   ]
  },
  {
   "cell_type": "code",
   "execution_count": 128,
   "metadata": {},
   "outputs": [],
   "source": [
    "import numpy as np"
   ]
  },
  {
   "cell_type": "code",
   "execution_count": 147,
   "metadata": {},
   "outputs": [],
   "source": [
    "test_list = list(cluster_dict_check.values())"
   ]
  },
  {
   "cell_type": "code",
   "execution_count": 148,
   "metadata": {},
   "outputs": [],
   "source": [
    "import operator\n",
    "res = list(map(operator.sub, test_list[1:], test_list[:-1])) "
   ]
  },
  {
   "cell_type": "code",
   "execution_count": 151,
   "metadata": {},
   "outputs": [
    {
     "data": {
      "text/plain": [
       "[<matplotlib.lines.Line2D at 0x262d05d8198>]"
      ]
     },
     "execution_count": 151,
     "metadata": {},
     "output_type": "execute_result"
    },
    {
     "data": {
      "image/png": "[encoded data removed]",
      "text/plain": [
       "<Figure size 432x288 with 1 Axes>"
      ]
     },
     "metadata": {
      "needs_background": "light"
     },
     "output_type": "display_data"
    }
   ],
   "source": [
    "plt.plot(range(4,100),res)"
   ]
  },
  {
   "cell_type": "code",
   "execution_count": 152,
   "metadata": {},
   "outputs": [],
   "source": [
    "### K means clustering n = 20"
   ]
  },
  {
   "cell_type": "code",
   "execution_count": 153,
   "metadata": {},
   "outputs": [],
   "source": [
    "kmeans = KMeans(n_clusters=20)\n",
    "kmeans.fit(movies_data[movies_data.columns[2:]])\n",
    "y_kmeans = kmeans.predict(movies_data[movies_data.columns[2:]])"
   ]
  },
  {
   "cell_type": "code",
   "execution_count": 156,
   "metadata": {},
   "outputs": [],
   "source": [
    "centres = kmeans.cluster_centers_"
   ]
  },
  {
   "cell_type": "code",
   "execution_count": 157,
   "metadata": {},
   "outputs": [
    {
     "data": {
      "text/plain": [
       "array([[ 1.99840144e-14,  7.88436268e-04,  2.12877792e-02,\n",
       "         2.70696452e-02,  2.39159001e-02,  1.07752957e-02,\n",
       "         1.00000000e+00,  2.58431888e-02,  6.48269820e-02,\n",
       "         9.02321507e-03,  9.54883925e-03, -3.77475828e-14,\n",
       "         1.89570581e-14,  1.57687254e-02,  1.76084100e-02,\n",
       "         1.29479760e-14, -3.21270788e-14, -2.41334730e-14,\n",
       "         5.16863776e-03],\n",
       "       [ 8.43450479e-01,  3.99361022e-04,  1.95686901e-02,\n",
       "         2.83546326e-02,  1.43769968e-02,  7.46805112e-02,\n",
       "        -1.18238752e-14,  2.03674121e-02,  1.07827476e-02,\n",
       "         8.78594249e-03,  8.78594249e-03,  1.35782748e-02,\n",
       "         2.31629393e-02,  1.99680511e-03,  4.87220447e-02,\n",
       "         8.78594249e-03,  1.00000000e+00,  3.35463259e-02,\n",
       "        -3.06178694e-16],\n",
       "       [ 1.85407245e-14,  7.17257208e-04,  7.15822694e-02,\n",
       "         2.76861282e-02,  2.45301965e-02,  1.29106298e-02,\n",
       "         5.96189764e-14,  5.66213743e-15,  1.44885956e-02,\n",
       "         3.33066907e-16,  1.27815235e-01, -2.60069744e-14,\n",
       "         8.32667268e-16,  2.77555756e-15,  3.09855114e-02,\n",
       "         4.16333634e-17,  2.86902883e-04, -1.11577414e-14,\n",
       "         2.29522307e-03],\n",
       "       [ 5.53379040e-02,  1.12634672e-02,  3.36434868e-01,\n",
       "         8.32517140e-03,  3.03623898e-02,  1.95886386e-03,\n",
       "        -1.17683641e-14,  1.85962357e-15,  4.11361410e-02,\n",
       "         5.87659158e-03,  6.61116552e-02,  3.88834476e-01,\n",
       "         6.36630754e-03,  9.79431929e-04,  5.58276200e-02,\n",
       "         7.24779628e-02,  4.26052889e-02,  1.00000000e+00,\n",
       "         1.46914789e-03],\n",
       "       [ 1.00000000e+00,  4.72366556e-04,  2.45630609e-02,\n",
       "         3.99149740e-02,  1.35805385e-02,  2.45630609e-02,\n",
       "         6.67244038e-14,  2.14926783e-02,  8.85687293e-03,\n",
       "         1.98452366e-15,  3.58998583e-02,  9.91969769e-03,\n",
       "         4.44024563e-02,  1.96032121e-02,  3.15304676e-02,\n",
       "         5.72744450e-02, -2.50355292e-14,  5.52668871e-02,\n",
       "         2.36183278e-04],\n",
       "       [ 5.54465162e-02,  4.90677134e-04,  1.09421001e-01,\n",
       "         2.94406281e-03,  2.16388616e-01,  1.96270854e-03,\n",
       "         1.87929342e-01,  1.37389598e-02,  4.41609421e-03,\n",
       "         1.96270854e-03,  3.43473994e-03,  1.00000000e+00,\n",
       "         5.10304220e-02,  1.96270854e-03,  5.00490677e-02,\n",
       "         1.00000000e+00,  2.06084396e-02,  6.08439647e-02,\n",
       "         1.96270854e-03],\n",
       "       [ 1.72639680e-14,  5.61362756e-03,  4.06504065e-03,\n",
       "         3.48432056e-03,  2.90360046e-03,  1.68408827e-02,\n",
       "         4.56301663e-14,  8.32365467e-03,  1.99380565e-02,\n",
       "         7.74293457e-04,  5.80720093e-03,  2.12930701e-03,\n",
       "         9.67866822e-03,  1.00000000e+00,  9.67866822e-04,\n",
       "         4.83933411e-03,  1.74216028e-03,  1.54858691e-03,\n",
       "        -3.70363462e-16],\n",
       "       [ 3.99436090e-02,  8.92857143e-03,  4.55827068e-02,\n",
       "         1.12781955e-02,  3.47744361e-02,  2.81954887e-03,\n",
       "         1.00000000e+00,  1.77161654e-01,  1.23120301e-01,\n",
       "         3.85338346e-02,  1.40977444e-02,  3.12030075e-01,\n",
       "         2.71616541e-01,  4.69924812e-03,  2.44360902e-02,\n",
       "         2.16165414e-02,  3.94736842e-02,  1.00000000e+00,\n",
       "         1.40977444e-03],\n",
       "       [ 1.51534126e-01,  2.81778334e-02,  2.71133375e-01,\n",
       "         3.38134001e-02,  2.69254853e-02,  6.26174076e-03,\n",
       "         1.31496556e-02,  1.00000000e+00,  4.69630557e-02,\n",
       "         2.44207890e-02,  8.20288040e-02,  1.23356293e-01,\n",
       "         3.69442705e-02,  4.38321853e-03,  1.48403256e-01,\n",
       "         3.56919224e-02,  7.63932373e-02,  7.32623669e-01,\n",
       "         1.25234815e-03],\n",
       "       [ 1.42108547e-14,  6.30119723e-04,  1.57529931e-02,\n",
       "         1.76433522e-02,  2.20541903e-02,  2.96156270e-02,\n",
       "         1.00000000e+00,  3.84373031e-02,  6.39571519e-02,\n",
       "         1.44927536e-02,  9.45179584e-03,  3.65469439e-02,\n",
       "         4.37933207e-02,  2.83553875e-03,  4.06427221e-02,\n",
       "         8.50661626e-03,  1.00000000e+00,  3.87523629e-02,\n",
       "         5.98613737e-03],\n",
       "       [ 3.06498545e-01,  2.03685742e-02,  1.16391853e-01,\n",
       "         7.66246363e-01,  2.23084384e-02,  4.17070805e-02,\n",
       "         1.35790495e-01,  7.60426770e-01,  2.90979631e-03,\n",
       "         7.75945684e-03,  1.71677983e-01,  5.81959263e-03,\n",
       "         5.81959263e-03,  5.81959263e-03,  7.41028128e-01,\n",
       "         1.84287100e-02,  4.75266731e-02,  3.10378274e-02,\n",
       "         1.93986421e-03],\n",
       "       [ 2.89017341e-02, -7.97972799e-17,  6.74373796e-03,\n",
       "         4.33526012e-03,  1.74373796e-01,  1.92678227e-03,\n",
       "         1.00000000e+00,  1.68593449e-02,  5.78034682e-03,\n",
       "         4.81695568e-03,  2.40847784e-03,  3.95953757e-01,\n",
       "         1.00000000e+00,  3.85356455e-03,  5.29865125e-03,\n",
       "         3.56454721e-02,  3.27552987e-02,  4.81695568e-04,\n",
       "         6.84007707e-02],\n",
       "       [ 4.39442658e-01,  2.03644159e-02,  4.50160772e-02,\n",
       "         9.49624866e-01,  2.25080386e-02,  6.21650589e-02,\n",
       "         3.75133976e-02,  2.88317256e-01,  1.07181136e-03,\n",
       "         6.43086817e-03,  1.00000000e+00,  3.21543408e-03,\n",
       "         8.57449089e-03, -6.93889390e-17,  1.08252947e-01,\n",
       "         2.14362272e-03,  3.00107181e-02,  5.03751340e-02,\n",
       "        -9.62771529e-17],\n",
       "       [ 1.62761241e-01,  3.16656111e-03,  2.02659911e-02,\n",
       "         1.89993667e-03,  1.91260291e-01,  1.89993667e-03,\n",
       "        -1.11022302e-14,  4.11652945e-02,  3.79987334e-03,\n",
       "         6.33312223e-03,  1.58328056e-02,  5.61114630e-01,\n",
       "         1.00000000e+00,  1.89993667e-03,  1.26662445e-02,\n",
       "         1.26662445e-02,  3.35655478e-02,  4.78784041e-01,\n",
       "         3.03989867e-02],\n",
       "       [ 2.73556231e-02,  1.68861871e-03,  1.75616346e-01,\n",
       "         2.70178994e-03,  9.69267139e-02,  2.70178994e-03,\n",
       "         1.21580547e-01,  1.51975684e-02,  4.72813239e-03,\n",
       "         2.02634245e-03,  1.68861871e-02,  6.93889390e-16,\n",
       "         2.12765957e-02,  1.68861871e-03,  6.38297872e-02,\n",
       "         1.00000000e+00,  9.79398852e-03,  3.71496116e-02,\n",
       "         6.75447484e-04],\n",
       "       [ 4.61847390e-02,  1.33868809e-03,  7.36278447e-02,\n",
       "         3.34672021e-03,  1.86077644e-01,  2.00803213e-03,\n",
       "         1.00000000e+00,  2.81124498e-02,  3.34672021e-02,\n",
       "         4.01606426e-03,  4.01606426e-03,  1.00000000e+00,\n",
       "         1.88737914e-15,  5.35475234e-03,  1.87416332e-02,\n",
       "         2.24820162e-15,  2.20883534e-02,  2.48412402e-15,\n",
       "         2.00803213e-02],\n",
       "       [ 1.00000000e+00,  6.48088140e-04,  1.19896306e-02,\n",
       "         3.95333765e-02,  1.16655865e-02,  1.87945561e-02,\n",
       "         1.00000000e+00,  2.07388205e-02,  1.62022035e-02,\n",
       "         5.18470512e-03,  7.45301361e-03,  6.48088140e-04,\n",
       "         5.05508749e-02,  6.80492547e-03,  3.07841866e-02,\n",
       "         1.19896306e-02,  3.42781359e-15,  2.49513934e-02,\n",
       "         6.48088140e-04],\n",
       "       [ 1.54375615e-01,  3.33934269e-17,  8.84955752e-03,\n",
       "         4.91642085e-03,  8.84955752e-03,  1.96656834e-02,\n",
       "         1.86823992e-02,  8.45624385e-02,  2.45821042e-02,\n",
       "         1.00000000e+00,  3.93313668e-03,  6.88298918e-03,\n",
       "         7.86627335e-03,  9.83284169e-04,  2.94985251e-03,\n",
       "         2.16322517e-02,  8.06293019e-02,  1.32743363e-01,\n",
       "        -1.24032729e-16],\n",
       "       [ 1.77111717e-02,  2.04359673e-03,  1.28746594e-01,\n",
       "         2.04359673e-03,  1.95504087e-01,  6.81198910e-04,\n",
       "        -1.09356968e-14,  2.65667575e-02,  1.22615804e-02,\n",
       "         1.36239782e-03,  4.76839237e-03,  1.00000000e+00,\n",
       "         1.83186799e-15, -1.58206781e-15,  2.17983651e-02,\n",
       "         2.20656826e-15,  5.31335150e-02,  2.30371278e-15,\n",
       "         1.22615804e-02],\n",
       "       [ 1.00000000e+00,  5.59448321e-17,  9.41176471e-03,\n",
       "         1.41176471e-02,  1.56862745e-02,  3.37254902e-02,\n",
       "         1.00000000e+00,  1.64705882e-02,  1.25490196e-02,\n",
       "         4.70588235e-03,  7.84313725e-03,  2.19607843e-02,\n",
       "         3.60784314e-02,  3.13725490e-03,  3.37254902e-02,\n",
       "         4.70588235e-03,  1.00000000e+00,  3.37254902e-02,\n",
       "         7.84313725e-04]])"
      ]
     },
     "execution_count": 157,
     "metadata": {},
     "output_type": "execute_result"
    }
   ],
   "source": [
    "centres"
   ]
  },
  {
   "cell_type": "code",
   "execution_count": 161,
   "metadata": {},
   "outputs": [],
   "source": [
    "movies_data['clusterNumber'] = y_kmeans"
   ]
  },
  {
   "cell_type": "code",
   "execution_count": 168,
   "metadata": {},
   "outputs": [],
   "source": [
    "cluster_movies = dict()\n",
    "for cluster in list(set(movies_data['clusterNumber'].values)):\n",
    "    cluster_movies[cluster] = movies_data.groupby('clusterNumber').get_group(cluster)['movieId']"
   ]
  },
  {
   "cell_type": "code",
   "execution_count": 200,
   "metadata": {},
   "outputs": [],
   "source": [
    "movieid_cluster = movies_data[['movieId','clusterNumber']]"
   ]
  },
  {
   "cell_type": "code",
   "execution_count": 210,
   "metadata": {},
   "outputs": [],
   "source": [
    "ratings_movies = res = pd.merge(movieid_cluster, ratings, on='movieId')"
   ]
  },
  {
   "cell_type": "code",
   "execution_count": 225,
   "metadata": {},
   "outputs": [],
   "source": [
    "mean_ratings = ratings_movies.groupby(['clusterNumber','movieId'])['rating'].mean().reset_index()"
   ]
  },
  {
   "cell_type": "code",
   "execution_count": 256,
   "metadata": {},
   "outputs": [],
   "source": [
    "cluster_movies_sorted = dict()\n",
    "for clNum in range(0,20):\n",
    "    cluster_movies_sorted[clNum] = list(mean_ratings[mean_ratings['clusterNumber']==clNum].sort_values('rating',ascending = False).reset_index(drop=True)['movieId'])"
   ]
  },
  {
   "cell_type": "code",
   "execution_count": 254,
   "metadata": {},
   "outputs": [],
   "source": [
    "ratings_movies.to_csv('./../Output/ratings_movies_Cluster.csv', index=False)"
   ]
  },
  {
   "cell_type": "code",
   "execution_count": 266,
   "metadata": {},
   "outputs": [],
   "source": [
    "cluster_movies = []\n",
    "for clNum in range(0,20):\n",
    "    for itr in range(len(cluster_movies_sorted[clNum])):\n",
    "        cluster_movies.append([clNum,cluster_movies_sorted[clNum][itr],movies[movies['movieId'] == cluster_movies_sorted[clNum][itr]]['title'].values[0]])"
   ]
  },
  {
   "cell_type": "code",
   "execution_count": 270,
   "metadata": {},
   "outputs": [],
   "source": [
    "cl_movies = pd.DataFrame(cluster_movies,columns = ['clusterNumber','movieId','Title'])"
   ]
  },
  {
   "cell_type": "code",
   "execution_count": 271,
   "metadata": {},
   "outputs": [],
   "source": [
    "cl_movies.to_csv('./../Output/cluster_movies.csv', index=False)"
   ]
  },
  {
   "cell_type": "code",
   "execution_count": 272,
   "metadata": {},
   "outputs": [],
   "source": [
    "import shelve\n",
    "s = shelve.open(\"./../Output/data\")\n",
    "s['cluster_movies_sorted'] = cluster_movies_sorted\n",
    "s['centres'] = centres\n",
    "s.close()"
   ]
  }
 ],
 "metadata": {
  "kernelspec": {
   "display_name": "Python 3",
   "language": "python",
   "name": "python3"
  },
  "language_info": {
   "codemirror_mode": {
    "name": "ipython",
    "version": 3
   },
   "file_extension": ".py",
   "mimetype": "text/x-python",
   "name": "python",
   "nbconvert_exporter": "python",
   "pygments_lexer": "ipython3",
   "version": "3.7.3"
  }
 },
 "nbformat": 4,
 "nbformat_minor": 2
}
